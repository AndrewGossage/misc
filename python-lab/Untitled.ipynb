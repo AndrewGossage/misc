{
 "cells": [
  {
   "cell_type": "code",
   "execution_count": 1,
   "id": "61d282b9-fa59-40ca-8034-972d7edb56fb",
   "metadata": {},
   "outputs": [
    {
     "data": {
      "text/plain": [
       "Maybe(foo)"
      ]
     },
     "execution_count": 1,
     "metadata": {},
     "output_type": "execute_result"
    }
   ],
   "source": [
    "from fun_stuff import *\n",
    "count_arguments((lambda x,y,z: 4))\n",
    "Iter([ 400, 2, 4, Exception('foo')]).reduce((lambda x,y: x+y), (lambda x, y: y))"
   ]
  },
  {
   "cell_type": "code",
   "execution_count": null,
   "id": "a625bf20-66e6-411f-8b51-d573cfbe55cb",
   "metadata": {},
   "outputs": [],
   "source": [
    "Maybe(TypeError).expect(lambda: \"fo)"
   ]
  },
  {
   "cell_type": "code",
   "execution_count": 3,
   "id": "b3d92baa-a8f8-4b14-b867-780725b35ca6",
   "metadata": {},
   "outputs": [
    {
     "data": {
      "text/plain": [
       "[800,\n",
       " 4,\n",
       " 8,\n",
       " TypeError(\"unsupported operand type(s) for *: 'Exception' and 'int'\"),\n",
       " None]"
      ]
     },
     "execution_count": 3,
     "metadata": {},
     "output_type": "execute_result"
    }
   ],
   "source": [
    "Iter([ 400, 2, 4, Exception('foo'), None]).map(lambda x: x *2).unwrap()\n"
   ]
  },
  {
   "cell_type": "code",
   "execution_count": 10,
   "id": "368e5385-f4c8-4514-b46e-726b00c15177",
   "metadata": {},
   "outputs": [
    {
     "data": {
      "text/plain": [
       "1"
      ]
     },
     "execution_count": 10,
     "metadata": {},
     "output_type": "execute_result"
    }
   ],
   "source": [
    "Maybe(None).unwrap_or(lambda x,y,z,q, h=1: h)"
   ]
  },
  {
   "cell_type": "code",
   "execution_count": null,
   "id": "769380ae-8b92-4fd3-a85e-6530d9b708ed",
   "metadata": {},
   "outputs": [],
   "source": [
    "def test(): print(1)\n",
    "def t(*args): test(*args)\n",
    "from inspect import signature\n",
    "count_arguments = lambda fun: len(str(signature(fun)).replace('(','').replace(')','').split(','))\n",
    "test(*[1,3,4,6][0:count_arguments(test)] if count_arguments(test) > 0 else)\n",
    " \n"
   ]
  },
  {
   "cell_type": "code",
   "execution_count": null,
   "id": "a7f85065-1186-4f3c-a7a8-ef426a2592f4",
   "metadata": {},
   "outputs": [],
   "source": [
    "try:\n",
    "    None *2\n",
    "except Exception as err:\n",
    "    print(err)"
   ]
  },
  {
   "cell_type": "code",
   "execution_count": 4,
   "id": "3f964dca-4c31-46ec-b7d7-5ca8ca480388",
   "metadata": {},
   "outputs": [
    {
     "data": {
      "text/plain": [
       "function"
      ]
     },
     "execution_count": 4,
     "metadata": {},
     "output_type": "execute_result"
    }
   ],
   "source": [
    "type(lambda:1)"
   ]
  },
  {
   "cell_type": "code",
   "execution_count": null,
   "id": "01be8e1e-c50d-4094-9435-a5ddd558ed22",
   "metadata": {},
   "outputs": [],
   "source": [
    "number"
   ]
  },
  {
   "cell_type": "code",
   "execution_count": null,
   "id": "30a7628a-a1da-469e-9469-bc78d51f8855",
   "metadata": {},
   "outputs": [],
   "source": [
    "Exception"
   ]
  },
  {
   "cell_type": "code",
   "execution_count": null,
   "id": "f7f3c092-3ba7-4edc-a478-2c91edb882ad",
   "metadata": {},
   "outputs": [],
   "source": [
    "type(TypeError) == type(Exception)"
   ]
  },
  {
   "cell_type": "code",
   "execution_count": null,
   "id": "38857f8c-a8dd-441f-8cd7-b417d65424fc",
   "metadata": {},
   "outputs": [],
   "source": []
  }
 ],
 "metadata": {
  "kernelspec": {
   "display_name": "Python 3 (ipykernel)",
   "language": "python",
   "name": "python3"
  },
  "language_info": {
   "codemirror_mode": {
    "name": "ipython",
    "version": 3
   },
   "file_extension": ".py",
   "mimetype": "text/x-python",
   "name": "python",
   "nbconvert_exporter": "python",
   "pygments_lexer": "ipython3",
   "version": "3.10.4"
  }
 },
 "nbformat": 4,
 "nbformat_minor": 5
}
